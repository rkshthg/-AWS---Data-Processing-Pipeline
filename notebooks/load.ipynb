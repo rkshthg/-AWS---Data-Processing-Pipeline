{
 "cells": [
  {
   "cell_type": "code",
   "execution_count": 1,
   "metadata": {
    "vscode": {
     "languageId": "python_session"
    }
   },
   "outputs": [
    {
     "name": "stdout",
     "output_type": "stream",
     "text": [
      "Calculation started (calculation_id=6cca5e00-6845-9f32-ac40-7c9bbf59c7e7) in (session=f0ca5e00-104e-b282-e34e-bc937991e894). Checking calculation status...\n"
     ]
    },
    {
     "data": {
      "application/vnd.jupyter.widget-view+json": {
       "model_id": "a97e8e28d5b04ad2b284fcad969d2727",
       "version_major": 2,
       "version_minor": 0
      },
      "text/plain": [
       "Progress:   0%|          |elapsed time = 00:00s"
      ]
     },
     "metadata": {},
     "output_type": "display_data"
    },
    {
     "name": "stdout",
     "output_type": "stream",
     "text": [
      "Calculation completed.\n"
     ]
    }
   ],
   "source": [
    "import boto3\n",
    "from pyspark.sql.functions import col, datediff, current_timestamp, expr, substring, lpad, row_number, desc, to_date, lead, lag\n",
    "from pyspark.sql import Window"
   ]
  },
  {
   "cell_type": "code",
   "execution_count": 2,
   "metadata": {
    "vscode": {
     "languageId": "python_session"
    }
   },
   "outputs": [
    {
     "name": "stdout",
     "output_type": "stream",
     "text": [
      "Calculation started (calculation_id=c0ca5e00-6e03-b398-a4a0-cb5035be7262) in (session=f0ca5e00-104e-b282-e34e-bc937991e894). Checking calculation status...\n"
     ]
    },
    {
     "data": {
      "application/vnd.jupyter.widget-view+json": {
       "model_id": "0fa7fafc875f40e793fa53c911b86b43",
       "version_major": 2,
       "version_minor": 0
      },
      "text/plain": [
       "Progress:   0%|          |elapsed time = 00:00s"
      ]
     },
     "metadata": {},
     "output_type": "display_data"
    },
    {
     "name": "stdout",
     "output_type": "stream",
     "text": [
      "Calculation completed.\n"
     ]
    }
   ],
   "source": [
    "def list_parquet_files(bucket_name, prefix):\n",
    "    # List objects in the specified S3 bucket\n",
    "    response = s3_client.list_objects_v2(Bucket=bucket_name, Prefix=prefix)\n",
    "    \n",
    "    parquet_files = [] \n",
    "    # Check if the bucket contains any objects\n",
    "    if 'Contents' in response:\n",
    "        # Iterate through the list of objects and filter for parquet files\n",
    "        for obj in response['Contents']:\n",
    "            if obj['Key'].endswith('.parquet'):\n",
    "                parquet_files.append(\"s3://\" + bucket_name + \"/\"+ obj['Key'])\n",
    "        return parquet_files           \n",
    "    \n",
    "    else:\n",
    "        print(\"No files found in the bucket.\")"
   ]
  },
  {
   "cell_type": "code",
   "execution_count": 3,
   "metadata": {
    "vscode": {
     "languageId": "python_session"
    }
   },
   "outputs": [
    {
     "name": "stdout",
     "output_type": "stream",
     "text": [
      "Calculation started (calculation_id=2aca5e00-7301-8f0c-cb08-d9e134678eff) in (session=f0ca5e00-104e-b282-e34e-bc937991e894). Checking calculation status...\n"
     ]
    },
    {
     "data": {
      "application/vnd.jupyter.widget-view+json": {
       "model_id": "c0c85006483d4a9bad81fcc7001bf3c5",
       "version_major": 2,
       "version_minor": 0
      },
      "text/plain": [
       "Progress:   0%|          |elapsed time = 00:00s"
      ]
     },
     "metadata": {},
     "output_type": "display_data"
    },
    {
     "name": "stdout",
     "output_type": "stream",
     "text": [
      "Calculation completed.\n"
     ]
    }
   ],
   "source": [
    "def read_parquet(files):\n",
    "    if isinstance(files, list):\n",
    "        df = spark.read.parquet(*files)\n",
    "    else:\n",
    "        df = spark.read.parquet(files)\n",
    "    return df"
   ]
  },
  {
   "cell_type": "code",
   "execution_count": 4,
   "metadata": {
    "vscode": {
     "languageId": "python_session"
    }
   },
   "outputs": [
    {
     "name": "stdout",
     "output_type": "stream",
     "text": [
      "Calculation started (calculation_id=0aca5e00-783d-891b-6e3f-d7455756cb47) in (session=f0ca5e00-104e-b282-e34e-bc937991e894). Checking calculation status...\n"
     ]
    },
    {
     "data": {
      "application/vnd.jupyter.widget-view+json": {
       "model_id": "99b66bad23a94ddeb689afde6693fbc4",
       "version_major": 2,
       "version_minor": 0
      },
      "text/plain": [
       "Progress:   0%|          |elapsed time = 00:00s"
      ]
     },
     "metadata": {},
     "output_type": "display_data"
    },
    {
     "name": "stdout",
     "output_type": "stream",
     "text": [
      "Calculation completed.\n"
     ]
    }
   ],
   "source": [
    "def read_csv(file_path):\n",
    "    df = spark.read.csv(file_path, header=True, inferSchema=True)\n",
    "    return df"
   ]
  },
  {
   "cell_type": "code",
   "execution_count": 5,
   "metadata": {
    "vscode": {
     "languageId": "python_session"
    }
   },
   "outputs": [
    {
     "name": "stdout",
     "output_type": "stream",
     "text": [
      "Calculation started (calculation_id=16ca5e00-795d-da70-1376-497a39bd68e9) in (session=f0ca5e00-104e-b282-e34e-bc937991e894). Checking calculation status...\n"
     ]
    },
    {
     "data": {
      "application/vnd.jupyter.widget-view+json": {
       "model_id": "af0c20a04f0f43af8ec31e2b7eecef73",
       "version_major": 2,
       "version_minor": 0
      },
      "text/plain": [
       "Progress:   0%|          |elapsed time = 00:00s"
      ]
     },
     "metadata": {},
     "output_type": "display_data"
    },
    {
     "name": "stdout",
     "output_type": "stream",
     "text": [
      "Calculation completed.\n"
     ]
    }
   ],
   "source": [
    "def write_to_delta(source, target, partition_cols):\n",
    "    source.write.format(\"delta\", mode=\"overwrite\").partitionBy(*partition_cols).save(target)\n",
    "    return"
   ]
  },
  {
   "cell_type": "code",
   "execution_count": 6,
   "metadata": {
    "vscode": {
     "languageId": "python_session"
    }
   },
   "outputs": [
    {
     "name": "stdout",
     "output_type": "stream",
     "text": [
      "Calculation started (calculation_id=f8ca5e00-7e5f-dd1c-69fa-06eecb128049) in (session=f0ca5e00-104e-b282-e34e-bc937991e894). Checking calculation status...\n"
     ]
    },
    {
     "data": {
      "application/vnd.jupyter.widget-view+json": {
       "model_id": "1d984a6a97c54d88b136be5aef6005a2",
       "version_major": 2,
       "version_minor": 0
      },
      "text/plain": [
       "Progress:   0%|          |elapsed time = 00:00s"
      ]
     },
     "metadata": {},
     "output_type": "display_data"
    },
    {
     "name": "stdout",
     "output_type": "stream",
     "text": [
      "Calculation f8ca5e00-7e5f-dd1c-69fa-06eecb128049 failed\n",
      "\n",
      "\n",
      "  File \"<stdin>\", line 1, in <module>\n",
      "ModuleNotFoundError: No module named 'delta'\n",
      "\n"
     ]
    }
   ],
   "source": [
    "from delta.tables import DeltaTable\n",
    "\n",
    "def write_to_target(spark, updates, target, partition_cols, merge_condition):\n",
    "    if DeltaTable.isDeltaTable(spark, target):\n",
    "        deltaTable = DeltaTable.forPath(spark, target)\n",
    "        deltaTable.alias(\"target\") \\\n",
    "                .merge(updates.alias(\"updates\"), merge_condition) \\\n",
    "                .whenMatchedUpdateAll() \\\n",
    "                .whenNotMatchedInsertAll() \\\n",
    "                .execute()\n",
    "    else:\n",
    "        write_to_delta(updates, target, partition_cols)"
   ]
  },
  {
   "cell_type": "code",
   "execution_count": 7,
   "metadata": {
    "vscode": {
     "languageId": "python_session"
    }
   },
   "outputs": [
    {
     "name": "stdout",
     "output_type": "stream",
     "text": [
      "Calculation started (calculation_id=04ca5e00-836a-b36e-b19a-0a93bb225074) in (session=f0ca5e00-104e-b282-e34e-bc937991e894). Checking calculation status...\n"
     ]
    },
    {
     "data": {
      "application/vnd.jupyter.widget-view+json": {
       "model_id": "73de099da1dd4f658fb4b54fe608f2e6",
       "version_major": 2,
       "version_minor": 0
      },
      "text/plain": [
       "Progress:   0%|          |elapsed time = 00:00s"
      ]
     },
     "metadata": {},
     "output_type": "display_data"
    },
    {
     "name": "stdout",
     "output_type": "stream",
     "text": [
      "Calculation completed.\n"
     ]
    }
   ],
   "source": [
    "bucket = \"datacraft-retail-dataset\"\n",
    "stage_prefix = \"stage/data/\""
   ]
  },
  {
   "cell_type": "code",
   "execution_count": 8,
   "metadata": {
    "vscode": {
     "languageId": "python_session"
    }
   },
   "outputs": [
    {
     "name": "stdout",
     "output_type": "stream",
     "text": [
      "Calculation started (calculation_id=6cca5e00-887c-52f3-0bd6-5a408ad94cb8) in (session=f0ca5e00-104e-b282-e34e-bc937991e894). Checking calculation status...\n"
     ]
    },
    {
     "data": {
      "application/vnd.jupyter.widget-view+json": {
       "model_id": "11142eced00f4fba8ac6fa46d4f025fd",
       "version_major": 2,
       "version_minor": 0
      },
      "text/plain": [
       "Progress:   0%|          |elapsed time = 00:00s"
      ]
     },
     "metadata": {},
     "output_type": "display_data"
    },
    {
     "name": "stdout",
     "output_type": "stream",
     "text": [
      "Calculation completed.\n",
      "Parquet files in the bucket:\n",
      "s3://datacraft-retail-dataset/stage/data/2025/01/28/12/retail-delivery-stream-1-2025-01-28-12-41-24-6fb1bafc-974d-4f91-a63c-c5596847437f.parquet\n",
      "s3://datacraft-retail-dataset/stage/data/2025/01/28/12/retail-delivery-stream-1-2025-01-28-12-43-25-dd25f467-dd69-4d11-8747-441fb8959734.parquet\n",
      "s3://datacraft-retail-dataset/stage/data/2025/01/28/12/retail-delivery-stream-1-2025-01-28-12-44-25-18136aa3-1d66-4738-b689-0dd936b351ff.parquet\n",
      "s3://datacraft-retail-dataset/stage/data/2025/01/28/12/retail-delivery-stream-1-2025-01-28-12-45-26-84346549-5017-4d33-a143-db31c5ef5a03.parquet\n",
      "s3://datacraft-retail-dataset/stage/data/2025/01/28/12/retail-delivery-stream-1-2025-01-28-12-46-29-58257fcb-bf85-451e-bbc7-52e519aba4e4.parquet\n",
      "s3://datacraft-retail-dataset/stage/data/2025/01/28/12/retail-delivery-stream-1-2025-01-28-12-48-25-c9fbb564-6e90-409a-9adf-5ee8918a22b5.parquet\n",
      "s3://datacraft-retail-dataset/stage/data/2025/01/28/12/retail-delivery-stream-1-2025-01-28-12-50-23-7895c2df-fc47-4727-9f28-28a1adfcf111.parquet\n",
      "s3://datacraft-retail-dataset/stage/data/2025/01/28/12/retail-delivery-stream-1-2025-01-28-12-52-21-f8353e93-c80b-4d2f-9156-bf2bfbf29c27.parquet\n",
      "\n"
     ]
    }
   ],
   "source": [
    "# Initialize an S3 client\n",
    "s3_client = boto3.client('s3')\n",
    "\n",
    "# Call the function to list parquet files\n",
    "parquet_files = list_parquet_files(bucket, stage_prefix)\n",
    "\n",
    "if parquet_files:\n",
    "    print(\"Parquet files in the bucket:\")\n",
    "    for file in parquet_files:\n",
    "        print(file)\n",
    "else:\n",
    "    print(\"No Parquet files found.\")"
   ]
  },
  {
   "cell_type": "code",
   "execution_count": 9,
   "metadata": {
    "vscode": {
     "languageId": "python_session"
    }
   },
   "outputs": [
    {
     "name": "stdout",
     "output_type": "stream",
     "text": [
      "Calculation started (calculation_id=46ca5e00-8dad-a487-de16-538ccbe46210) in (session=f0ca5e00-104e-b282-e34e-bc937991e894). Checking calculation status...\n"
     ]
    },
    {
     "data": {
      "application/vnd.jupyter.widget-view+json": {
       "model_id": "7e723c9ae98041ceb0439abd03f8bb8a",
       "version_major": 2,
       "version_minor": 0
      },
      "text/plain": [
       "Progress:   0%|          |elapsed time = 00:00s"
      ]
     },
     "metadata": {},
     "output_type": "display_data"
    },
    {
     "name": "stdout",
     "output_type": "stream",
     "text": [
      "Calculation completed.\n"
     ]
    }
   ],
   "source": [
    "df_stage = read_parquet(parquet_files)"
   ]
  },
  {
   "cell_type": "code",
   "execution_count": 10,
   "metadata": {
    "vscode": {
     "languageId": "python_session"
    }
   },
   "outputs": [
    {
     "name": "stdout",
     "output_type": "stream",
     "text": [
      "Calculation started (calculation_id=e2ca5e00-9ec8-c1d3-760a-4dcaf4c519f2) in (session=f0ca5e00-104e-b282-e34e-bc937991e894). Checking calculation status...\n"
     ]
    },
    {
     "data": {
      "application/vnd.jupyter.widget-view+json": {
       "model_id": "6bb3ef7c5b4c49a19018ec8009ecd726",
       "version_major": 2,
       "version_minor": 0
      },
      "text/plain": [
       "Progress:   0%|          |elapsed time = 00:00s"
      ]
     },
     "metadata": {},
     "output_type": "display_data"
    },
    {
     "name": "stdout",
     "output_type": "stream",
     "text": [
      "Calculation completed.\n",
      "+-----------------------+-----------------------------+---------------------+----------------------+--------------------------+--------------------------------+----------------------------------+-------------------------------+--------------------------------+--------------------------------+---------------------------------+------------------------------+--------------------------------+--------------------------------+---------------------------------+-------------------------------+------------------------------+----------------------------+------------------------------+------------------------------+-----------------------------------+--------------------+-----------------------------+\n",
      "|retailtxndata_invoiceno|retailtxndata_invoicedatetime|retailtxndata_storeno|retailtxndata_storepos|retailtxndata_storecountry|retailtxndata_lineitem_stockcode|retailtxndata_lineitem_description|retailtxndata_lineitem_quantity|retailtxndata_lineitem_unitprice|retailtxndata_lineitem_saleprice|retailtxndata_customer_customerid|retailtxndata_customer_emailid|retailtxndata_customer_contactno|retailtxndata_customer_firstname|retailtxndata_customer_middlename|retailtxndata_customer_lastname|retailtxndata_customer_address|retailtxndata_customer_state|retailtxndata_customer_country|retailtxndata_customer_zipcode|retailtxndata_discount_discountcode|retailtxndata_region|retailtxndata_sourcetimestamp|\n",
      "+-----------------------+-----------------------------+---------------------+----------------------+--------------------------+--------------------------------+----------------------------------+-------------------------------+--------------------------------+--------------------------------+---------------------------------+------------------------------+--------------------------------+--------------------------------+---------------------------------+-------------------------------+------------------------------+----------------------------+------------------------------+------------------------------+-----------------------------------+--------------------+-----------------------------+\n",
      "|                    708|          2021-11-15 17:37:55|                   20|          3XNU71195772|                    France|                          307998|                            Rubber|                             37|                           93.86|                         3472.82|                             2269|          csherringhamr@1un...|                +05-873-727-7451|                           Boris|                         Chrotoem|                    Sherringham|                  PO Box 69524|                       Texas|                        France|                        408798|                          DIUKDLU93|              Europe|          2021-11-15 17:37:55|\n",
      "|                   8527|          2023-11-29 18:49:17|                   54|          0GWK10700921|                    Canada|                          095714|                           Granite|                             36|                            7.45|                           268.2|                             9153|          mhearsont@dailymo...|                +56-006-406-5013|                       Maighdiln|                           Marlie|                        Hearson|                       Apt 867|                    Illinois|                        Canada|                        385832|                          NUWRHOI47|       North America|          2023-11-29 18:49:17|\n",
      "|                   7265|          2021-02-24 02:23:03|                   84|          8EJW71975028|                    Canada|                          104909|                          Aluminum|                             69|                           10.68|                          736.92|                             7776|          grosekillys@hibu.com|                +84-927-735-1308|                            Sela|                           Gretta|                      Rosekilly|                       Apt 332|                  California|                        Canada|                        895475|                          GOQRURO61|       North America|          2021-02-24 02:23:03|\n",
      "|                   4856|          2023-11-06 07:11:08|                   35|          2ZTD53136698|                   Lebanon|                          606155|                            Rubber|                             71|                           36.47|                         2589.37|                               34|          nsperlingu@flickr...|                +07-509-035-2403|                             Lyn|                             Noby|                       Sperling|                      Apt 1922|                    Missouri|                       Lebanon|                        750448|                          MSUDZLO29|        Asia-Pacific|          2023-11-06 07:11:08|\n",
      "|                   1424|          2021-05-03 12:41:00|                   55|          8JNO33975153|                    Brazil|                          801975|                             Glass|                             79|                           94.41|                         7458.39|                             3354|          aklimav@amazon.co.uk|                +99-374-022-9283|                      Christiano|                             Adah|                          Klima|                       Suite 5|                     Florida|                        Brazil|                        208992|                          OFQRHRZ61|       South America|          2021-05-03 12:41:00|\n",
      "|                   3183|          2022-06-20 21:39:55|                   83|          4WEI93580001|                 Singapore|                          683342|                             Stone|                             72|                           60.43|                         4350.96|                             6222|          rgaylardw@clickba...|                +02-623-292-7368|                         Phaedra|                         Rodolphe|                        Gaylard|                      Apt 1766|                    New York|                     Singapore|                        378239|                          JZEDMGJ42|        Asia-Pacific|          2022-06-20 21:39:55|\n",
      "|                   6660|          2022-05-28 22:24:30|                   58|          8VIK39621715|                   Finland|                          333041|                            Rubber|                             23|                           96.17|                         2211.91|                              416|          kdenerx@liveinter...|                +53-450-340-4114|                        Elfrieda|                             Kile|                          Dener|                      Suite 11|                 Connecticut|                       Finland|                        949329|                          YDMZVCJ13|              Europe|          2022-05-28 22:24:30|\n",
      "|                   4011|          2024-10-15 21:51:33|                   49|          0CJN49904019|              South Africa|                          845151|                             Stone|                             79|                           75.18|                         5939.22|                             7769|          belveny@fastcompa...|                +41-041-093-2844|                          Emilia|                             Bret|                          Elven|                      Suite 17|                   Louisiana|                  South Africa|                        675918|                          GDQWWIN67|              Africa|          2024-10-15 21:51:33|\n",
      "|                   5903|          2021-06-09 06:42:32|                   62|          6EKG79003351|                   Germany|                          321927|                             Glass|                             23|                           75.52|                         1736.96|                             4331|          estopsz@mapquest.com|                +28-462-661-7160|                          Morgan|                         Elisabet|                          Stops|                  PO Box 78183|                    Colorado|                       Germany|                        751649|                          ZEQOWXM58|              Europe|          2021-06-09 06:42:32|\n",
      "|                   3087|          2023-08-15 19:51:08|                   82|          0HCP54331277|               Switzerland|                          068412|                             Glass|                             59|                           69.35|                         4091.65|                             9225|             rcadd10@upenn.edu|                +94-127-302-0640|                          Townie|                         Ruggiero|                           Cadd|                     Room 1513|                       Texas|                   Switzerland|                         49448|                          JVMQJKO82|              Europe|          2023-08-15 19:51:08|\n",
      "+-----------------------+-----------------------------+---------------------+----------------------+--------------------------+--------------------------------+----------------------------------+-------------------------------+--------------------------------+--------------------------------+---------------------------------+------------------------------+--------------------------------+--------------------------------+---------------------------------+-------------------------------+------------------------------+----------------------------+------------------------------+------------------------------+-----------------------------------+--------------------+-----------------------------+\n",
      "only showing top 10 rows\n",
      "\n",
      "root\n",
      " |-- retailtxndata_invoiceno: string (nullable = true)\n",
      " |-- retailtxndata_invoicedatetime: string (nullable = true)\n",
      " |-- retailtxndata_storeno: string (nullable = true)\n",
      " |-- retailtxndata_storepos: string (nullable = true)\n",
      " |-- retailtxndata_storecountry: string (nullable = true)\n",
      " |-- retailtxndata_lineitem_stockcode: string (nullable = true)\n",
      " |-- retailtxndata_lineitem_description: string (nullable = true)\n",
      " |-- retailtxndata_lineitem_quantity: string (nullable = true)\n",
      " |-- retailtxndata_lineitem_unitprice: string (nullable = true)\n",
      " |-- retailtxndata_lineitem_saleprice: string (nullable = true)\n",
      " |-- retailtxndata_customer_customerid: string (nullable = true)\n",
      " |-- retailtxndata_customer_emailid: string (nullable = true)\n",
      " |-- retailtxndata_customer_contactno: string (nullable = true)\n",
      " |-- retailtxndata_customer_firstname: string (nullable = true)\n",
      " |-- retailtxndata_customer_middlename: string (nullable = true)\n",
      " |-- retailtxndata_customer_lastname: string (nullable = true)\n",
      " |-- retailtxndata_customer_address: string (nullable = true)\n",
      " |-- retailtxndata_customer_state: string (nullable = true)\n",
      " |-- retailtxndata_customer_country: string (nullable = true)\n",
      " |-- retailtxndata_customer_zipcode: string (nullable = true)\n",
      " |-- retailtxndata_discount_discountcode: string (nullable = true)\n",
      " |-- retailtxndata_region: string (nullable = true)\n",
      " |-- retailtxndata_sourcetimestamp: string (nullable = true)\n",
      "\n"
     ]
    }
   ],
   "source": [
    "df_stage.show(10)\n",
    "df_stage.printSchema()"
   ]
  },
  {
   "cell_type": "code",
   "execution_count": 11,
   "metadata": {
    "vscode": {
     "languageId": "python_session"
    }
   },
   "outputs": [
    {
     "name": "stdout",
     "output_type": "stream",
     "text": [
      "Calculation started (calculation_id=9eca5e00-afcc-d085-df3a-2abefa319329) in (session=f0ca5e00-104e-b282-e34e-bc937991e894). Checking calculation status...\n"
     ]
    },
    {
     "data": {
      "application/vnd.jupyter.widget-view+json": {
       "model_id": "39366424d6234e6d9f66e1830f891de6",
       "version_major": 2,
       "version_minor": 0
      },
      "text/plain": [
       "Progress:   0%|          |elapsed time = 00:00s"
      ]
     },
     "metadata": {},
     "output_type": "display_data"
    },
    {
     "name": "stdout",
     "output_type": "stream",
     "text": [
      "Calculation completed.\n"
     ]
    }
   ],
   "source": [
    "df_stage.createOrReplaceTempView(\"df_stage\")"
   ]
  },
  {
   "cell_type": "code",
   "execution_count": 12,
   "metadata": {
    "vscode": {
     "languageId": "python_session"
    }
   },
   "outputs": [
    {
     "name": "stdout",
     "output_type": "stream",
     "text": [
      "Calculation started (calculation_id=04ca5e00-b4cb-32af-cbe2-5c530de68611) in (session=f0ca5e00-104e-b282-e34e-bc937991e894). Checking calculation status...\n"
     ]
    },
    {
     "data": {
      "application/vnd.jupyter.widget-view+json": {
       "model_id": "cb5821be265f481a912b1fb707c61f50",
       "version_major": 2,
       "version_minor": 0
      },
      "text/plain": [
       "Progress:   0%|          |elapsed time = 00:00s"
      ]
     },
     "metadata": {},
     "output_type": "display_data"
    },
    {
     "name": "stdout",
     "output_type": "stream",
     "text": [
      "Calculation completed.\n",
      "root\n",
      " |-- invoiceno: long (nullable = true)\n",
      " |-- invoicets: timestamp (nullable = true)\n",
      " |-- invoicedate: date (nullable = true)\n",
      " |-- invoice_year: integer (nullable = true)\n",
      " |-- invoice_month: integer (nullable = true)\n",
      " |-- storeno: string (nullable = true)\n",
      " |-- storepos: string (nullable = true)\n",
      " |-- storecountry: string (nullable = true)\n",
      " |-- lineitem_stockcode: string (nullable = true)\n",
      " |-- lineitem_description: string (nullable = true)\n",
      " |-- lineitem_quantity: double (nullable = true)\n",
      " |-- lineitem_unitprice: float (nullable = true)\n",
      " |-- lineitem_saleprice: float (nullable = true)\n",
      " |-- customer_customerid: long (nullable = true)\n",
      " |-- customer_emailid: string (nullable = true)\n",
      " |-- customer_contactno: string (nullable = true)\n",
      " |-- customer_firstname: string (nullable = true)\n",
      " |-- customer_middlename: string (nullable = true)\n",
      " |-- customer_lastname: string (nullable = true)\n",
      " |-- customer_address: string (nullable = true)\n",
      " |-- customer_state: string (nullable = true)\n",
      " |-- customer_country: string (nullable = true)\n",
      " |-- customer_zipcode: string (nullable = true)\n",
      " |-- discountcode: string (nullable = true)\n",
      " |-- region: string (nullable = true)\n",
      " |-- sourcets: timestamp (nullable = true)\n",
      "\n"
     ]
    }
   ],
   "source": [
    "df_clean =  spark.sql(\"\"\" select cast(trim(RetailTxnData_InvoiceNo) as long) as invoiceno,\n",
    "                        cast(trim(RetailTxnData_InvoiceDateTime) as timestamp) as invoicets,\n",
    "                        date(cast(trim(RetailTxnData_InvoiceDateTime) as timestamp)) as invoicedate,\n",
    "                        year(cast(trim(RetailTxnData_InvoiceDateTime) as timestamp)) as invoice_year,\n",
    "                        month(cast(trim(RetailTxnData_InvoiceDateTime) as timestamp)) as invoice_month,\n",
    "                        cast(trim(RetailTxnData_StoreNo) as string) as storeno,\n",
    "                        cast(trim(RetailTxnData_StorePos) as string) as storepos,\n",
    "                        cast(trim(RetailTxnData_StoreCountry) as string) as storecountry,\n",
    "                        cast(trim(RetailTxnData_LineItem_StockCode) as string) as lineitem_stockcode,\n",
    "                        cast(trim(RetailTxnData_LineItem_Description) as string) as lineitem_description,\n",
    "                        cast(trim(RetailTxnData_LineItem_Quantity) as double) as lineitem_quantity,\n",
    "                        cast(trim(REPLACE(RetailTxnData_LineItem_UnitPrice, '$', '')) as float) as lineitem_unitprice,\n",
    "                        cast(trim(REPLACE(RetailTxnData_LineItem_SalePrice, '$', '')) as float) as lineitem_saleprice,\n",
    "                        cast(trim(RetailTxnData_Customer_CustomerID) as long) as customer_customerid,\n",
    "                        cast(trim(RetailTxnData_Customer_EmailId) as string) as customer_emailid,\n",
    "                        cast(trim(RetailTxnData_Customer_ContactNo) as string) as customer_contactno,\n",
    "                        cast(trim(RetailTxnData_Customer_FirstName) as string) as customer_firstname,\n",
    "                        cast(trim(RetailTxnData_Customer_MiddleName) as string) as customer_middlename,\n",
    "                        cast(trim(RetailTxnData_Customer_LastName) as string) as customer_lastname,\n",
    "                        cast(trim(RetailTxnData_Customer_Address) as string) as customer_address,\n",
    "                        cast(trim(RetailTxnData_Customer_State) as string) as customer_state,\n",
    "                        cast(trim(RetailTxnData_Customer_Country) as string) as customer_country,\n",
    "                        cast(trim(RetailTxnData_Customer_ZipCode) as string) as customer_zipcode,\n",
    "                        cast(trim(RetailTxnData_Discount_DiscountCode) as string) as discountcode,\n",
    "                        cast(trim(RetailTxnData_Region) as string) as region,\n",
    "                        cast(trim(RetailTxnData_SourceTimestamp) as timestamp) as sourcets\n",
    "                        from df_stage\"\"\")\n",
    "\n",
    "df_clean.printSchema()"
   ]
  },
  {
   "cell_type": "code",
   "execution_count": 13,
   "metadata": {
    "vscode": {
     "languageId": "python_session"
    }
   },
   "outputs": [
    {
     "name": "stdout",
     "output_type": "stream",
     "text": [
      "Calculation started (calculation_id=1aca5e00-b9f3-ee93-afd5-83f1794f1ef4) in (session=f0ca5e00-104e-b282-e34e-bc937991e894). Checking calculation status...\n"
     ]
    },
    {
     "data": {
      "application/vnd.jupyter.widget-view+json": {
       "model_id": "37da421a41ec40e5846bc1a9d728f354",
       "version_major": 2,
       "version_minor": 0
      },
      "text/plain": [
       "Progress:   0%|          |elapsed time = 00:00s"
      ]
     },
     "metadata": {},
     "output_type": "display_data"
    },
    {
     "name": "stdout",
     "output_type": "stream",
     "text": [
      "Calculation completed.\n"
     ]
    }
   ],
   "source": [
    "# Handling nulls\n",
    "fill_numeric_cols = {\n",
    "    \"invoiceno\":-1,\n",
    "    \"customer_customerid\":-1\n",
    "    }\n",
    "fill_floating_cols = {\n",
    "    \"lineitem_quantity\":\"NaN\",\n",
    "    \"lineitem_unitprice\":\"NaN\",\n",
    "    \"lineitem_saleprice\":\"NaN\"\n",
    "    }\n",
    "fill_timestamp_cols = {\n",
    "    \"invoicets\":\"1900-01-01 00:00:00\",\n",
    "    \"sourcets\":\"1900-01-01 00:00:00\"\n",
    "    }\n",
    "\n",
    "df_clean = df_clean.na.fill(\"NaN\") \\\n",
    "    .na.fill(fill_numeric_cols) \\\n",
    "    .na.fill(fill_floating_cols) \\\n",
    "    .na.fill(fill_timestamp_cols)"
   ]
  },
  {
   "cell_type": "code",
   "execution_count": 14,
   "metadata": {
    "vscode": {
     "languageId": "python_session"
    }
   },
   "outputs": [
    {
     "name": "stdout",
     "output_type": "stream",
     "text": [
      "Calculation started (calculation_id=96ca5e00-bf37-36bd-f44d-67c8b216d482) in (session=f0ca5e00-104e-b282-e34e-bc937991e894). Checking calculation status...\n"
     ]
    },
    {
     "data": {
      "application/vnd.jupyter.widget-view+json": {
       "model_id": "5ab498d5ddda417cac6dd737ba888567",
       "version_major": 2,
       "version_minor": 0
      },
      "text/plain": [
       "Progress:   0%|          |elapsed time = 00:00s"
      ]
     },
     "metadata": {},
     "output_type": "display_data"
    },
    {
     "name": "stdout",
     "output_type": "stream",
     "text": [
      "Calculation completed.\n"
     ]
    }
   ],
   "source": [
    "df_transformed = df_clean \\\n",
    "        .withColumn('processing_delay', datediff(current_timestamp(), col('sourcets').cast('timestamp'))) \\\n",
    "        .withColumn('customer_status', expr(\"CASE WHEN customer_customerid IS NULL OR customer_customerid <> '' THEN FALSE ELSE TRUE END\")) \\\n",
    "        .withColumn('local_stockcode', substring(col('lineitem_stockcode'), 0, 3)) \\\n",
    "        .withColumn('standard_stockcode', lpad(col('lineitem_stockcode'), 10, '0'))"
   ]
  },
  {
   "cell_type": "code",
   "execution_count": 15,
   "metadata": {
    "vscode": {
     "languageId": "python_session"
    }
   },
   "outputs": [
    {
     "name": "stdout",
     "output_type": "stream",
     "text": [
      "Calculation started (calculation_id=a4ca5e00-c473-eab1-e009-65407de9c04d) in (session=f0ca5e00-104e-b282-e34e-bc937991e894). Checking calculation status...\n"
     ]
    },
    {
     "data": {
      "application/vnd.jupyter.widget-view+json": {
       "model_id": "192a029bff774a1fb0fc8918247e7e98",
       "version_major": 2,
       "version_minor": 0
      },
      "text/plain": [
       "Progress:   0%|          |elapsed time = 00:00s"
      ]
     },
     "metadata": {},
     "output_type": "display_data"
    },
    {
     "name": "stdout",
     "output_type": "stream",
     "text": [
      "Calculation completed.\n"
     ]
    }
   ],
   "source": [
    "#Deduplication\n",
    "window_dd = Window.partitionBy('region', \n",
    "                                'storepos', \n",
    "                                'storeno', \n",
    "                                'invoicedate', \n",
    "                                'invoiceno'\n",
    "                                ).orderBy(desc('sourcets'))\n",
    "\n",
    "df_deduplicated = df_transformed.withColumn('rownumber',row_number().over(window_dd))\n",
    "\n",
    "# df_deduplicated.filter('rownumber>1').show(10)\n",
    "\n",
    "# df_deduplicated.createOrReplaceTempView(\"df_dedup\")"
   ]
  },
  {
   "cell_type": "code",
   "execution_count": 16,
   "metadata": {
    "vscode": {
     "languageId": "python_session"
    }
   },
   "outputs": [
    {
     "name": "stdout",
     "output_type": "stream",
     "text": [
      "Calculation started (calculation_id=ecca5e00-c980-5eea-2712-22a03f0c76a0) in (session=f0ca5e00-104e-b282-e34e-bc937991e894). Checking calculation status...\n"
     ]
    },
    {
     "data": {
      "application/vnd.jupyter.widget-view+json": {
       "model_id": "492867e5cd0d402aab08b3fa769a71a8",
       "version_major": 2,
       "version_minor": 0
      },
      "text/plain": [
       "Progress:   0%|          |elapsed time = 00:00s"
      ]
     },
     "metadata": {},
     "output_type": "display_data"
    },
    {
     "name": "stdout",
     "output_type": "stream",
     "text": [
      "Calculation completed.\n"
     ]
    }
   ],
   "source": [
    "currency_convert = 's3://datacraft-retail-dataset/master-data/dim_currency_convert.csv'\n",
    "currency = 's3://datacraft-retail-dataset/master-data/dim_currency.csv'\n",
    "discount_code = 's3://datacraft-retail-dataset/master-data/dim_discount.csv'\n",
    "tax_code = 's3://datacraft-retail-dataset/master-data/dim_geo_tax_code.csv'"
   ]
  },
  {
   "cell_type": "code",
   "execution_count": 17,
   "metadata": {
    "vscode": {
     "languageId": "python_session"
    }
   },
   "outputs": [
    {
     "name": "stdout",
     "output_type": "stream",
     "text": [
      "Calculation started (calculation_id=8eca5e00-ce8c-b04d-f118-7aca40feedae) in (session=f0ca5e00-104e-b282-e34e-bc937991e894). Checking calculation status...\n"
     ]
    },
    {
     "data": {
      "application/vnd.jupyter.widget-view+json": {
       "model_id": "ac2d639740a74c1f90303efe77a4f90f",
       "version_major": 2,
       "version_minor": 0
      },
      "text/plain": [
       "Progress:   0%|          |elapsed time = 00:00s"
      ]
     },
     "metadata": {},
     "output_type": "display_data"
    },
    {
     "name": "stdout",
     "output_type": "stream",
     "text": [
      "Calculation completed.\n"
     ]
    }
   ],
   "source": [
    "conversion_df = read_csv(currency_convert)\n",
    "currency_df = read_csv(currency)\n",
    "discount_df = read_csv(discount_code)\n",
    "tax_df = read_csv(tax_code)\n",
    "\n",
    "conversion_df.createOrReplaceTempView('conversion')\n",
    "currency_df.createOrReplaceTempView('currency')\n",
    "discount_df.createOrReplaceTempView('discount')\n",
    "tax_df.createOrReplaceTempView('tax')"
   ]
  },
  {
   "cell_type": "code",
   "execution_count": 18,
   "metadata": {
    "vscode": {
     "languageId": "python_session"
    }
   },
   "outputs": [
    {
     "name": "stdout",
     "output_type": "stream",
     "text": [
      "Calculation started (calculation_id=b6ca5e00-dfbe-1d43-1cbf-f955c12dfb6e) in (session=f0ca5e00-104e-b282-e34e-bc937991e894). Checking calculation status...\n"
     ]
    },
    {
     "data": {
      "application/vnd.jupyter.widget-view+json": {
       "model_id": "7ac5a94a9436432ea0aedf0599da6aee",
       "version_major": 2,
       "version_minor": 0
      },
      "text/plain": [
       "Progress:   0%|          |elapsed time = 00:00s"
      ]
     },
     "metadata": {},
     "output_type": "display_data"
    },
    {
     "name": "stdout",
     "output_type": "stream",
     "text": [
      "Calculation completed.\n"
     ]
    }
   ],
   "source": [
    "df_deduplicated.createOrReplaceTempView(\"df_dedup\")\n",
    "# spark.sql(\"select * from df_dedup limit 5\").show()"
   ]
  },
  {
   "cell_type": "code",
   "execution_count": 19,
   "metadata": {
    "vscode": {
     "languageId": "python_session"
    }
   },
   "outputs": [
    {
     "name": "stdout",
     "output_type": "stream",
     "text": [
      "Calculation started (calculation_id=c6ca5e00-e4d6-5fa4-8352-d961116dc6d1) in (session=f0ca5e00-104e-b282-e34e-bc937991e894). Checking calculation status...\n"
     ]
    },
    {
     "data": {
      "application/vnd.jupyter.widget-view+json": {
       "model_id": "5ddb27c5cfbb4014b907caa4c9ef7922",
       "version_major": 2,
       "version_minor": 0
      },
      "text/plain": [
       "Progress:   0%|          |elapsed time = 00:00s"
      ]
     },
     "metadata": {},
     "output_type": "display_data"
    },
    {
     "name": "stdout",
     "output_type": "stream",
     "text": [
      "Calculation completed.\n"
     ]
    }
   ],
   "source": [
    "lookup_sql = '''select a.*, coalesce(b.currency_cd, \"USD\") as currency_code, coalesce(c.conversion_rate, 1) as conversion_rate, coalesce(d.discount_per, 5)/100 as discount_value\n",
    "            from df_dedup a\n",
    "            left join currency b on lower(a.storecountry) = lower(trim(b.country))\n",
    "            left join conversion c on lower(trim(b.currency_cd)) = lower(trim(c.source_currency))\n",
    "            left join discount d on lower(a.discountcode) = lower(trim(d.discount_cd))\n",
    "            '''\n",
    "\n",
    "df_lookup = spark.sql(lookup_sql)\n",
    "# df_lookup.filter('region <> \"Africa\"').show(10)"
   ]
  },
  {
   "cell_type": "code",
   "execution_count": 20,
   "metadata": {
    "vscode": {
     "languageId": "python_session"
    }
   },
   "outputs": [
    {
     "name": "stdout",
     "output_type": "stream",
     "text": [
      "Calculation started (calculation_id=a8ca5e00-e9e5-27c6-f8d9-0fc176b18ffc) in (session=f0ca5e00-104e-b282-e34e-bc937991e894). Checking calculation status...\n"
     ]
    },
    {
     "data": {
      "application/vnd.jupyter.widget-view+json": {
       "model_id": "1607b974c2c34e72a3a1a5ab7a251e71",
       "version_major": 2,
       "version_minor": 0
      },
      "text/plain": [
       "Progress:   0%|          |elapsed time = 00:00s"
      ]
     },
     "metadata": {},
     "output_type": "display_data"
    },
    {
     "name": "stdout",
     "output_type": "stream",
     "text": [
      "Calculation completed.\n"
     ]
    }
   ],
   "source": [
    "# Calculations\n",
    "txn_dataset = df_lookup.withColumn('lineitem_finalsaleprice', expr('ROUND((lineitem_saleprice-(lineitem_saleprice*discount_value))*conversion_rate, 2)')) \\\n",
    "                    .withColumn('create_ts', current_timestamp()) \\\n",
    "                    .withColumn('update_ts', current_timestamp()) \\\n",
    "                    .drop('rownumber','currency_code','conversion_rate','discount_value')\n",
    "\n",
    "# txn_dataset.show(10)"
   ]
  },
  {
   "cell_type": "code",
   "execution_count": 21,
   "metadata": {
    "vscode": {
     "languageId": "python_session"
    }
   },
   "outputs": [
    {
     "name": "stdout",
     "output_type": "stream",
     "text": [
      "Calculation started (calculation_id=bcca5e00-eee9-9db1-72de-da3b923cf5ae) in (session=f0ca5e00-104e-b282-e34e-bc937991e894). Checking calculation status...\n"
     ]
    },
    {
     "data": {
      "application/vnd.jupyter.widget-view+json": {
       "model_id": "00b3a3fdc6e5413eab3b00cb9afe8b5b",
       "version_major": 2,
       "version_minor": 0
      },
      "text/plain": [
       "Progress:   0%|          |elapsed time = 00:00s"
      ]
     },
     "metadata": {},
     "output_type": "display_data"
    },
    {
     "name": "stdout",
     "output_type": "stream",
     "text": [
      "Calculation completed.\n"
     ]
    }
   ],
   "source": [
    "txn_dataset.createOrReplaceTempView(\"txn_dataset\")"
   ]
  },
  {
   "cell_type": "code",
   "execution_count": 28,
   "metadata": {
    "vscode": {
     "languageId": "python_session"
    }
   },
   "outputs": [
    {
     "name": "stdout",
     "output_type": "stream",
     "text": [
      "Calculation started (calculation_id=68ca5e03-3de9-55b6-ae52-4999e9db4479) in (session=f0ca5e00-104e-b282-e34e-bc937991e894). Checking calculation status...\n"
     ]
    },
    {
     "data": {
      "application/vnd.jupyter.widget-view+json": {
       "model_id": "c4e4cb4bb0f94cc98ac8df2d58fe4a35",
       "version_major": 2,
       "version_minor": 0
      },
      "text/plain": [
       "Progress:   0%|          |elapsed time = 00:00s"
      ]
     },
     "metadata": {},
     "output_type": "display_data"
    },
    {
     "name": "stdout",
     "output_type": "stream",
     "text": [
      "Calculation completed.\n",
      "+------+-------+------------+-------------+------------+-----------+--------------+-----------+\n",
      "|region|storeno|invoice_year|invoice_month|num_invoices|stock_count|total_quantity|total_sales|\n",
      "+------+-------+------------+-------------+------------+-----------+--------------+-----------+\n",
      "|Africa|      1|        2022|            3|           1|          1|          90.0|    5201.82|\n",
      "|Africa|     11|        2023|            5|           1|          1|          24.0|     361.38|\n",
      "|Africa|     12|        2020|            6|           1|          1|          97.0|    5838.62|\n",
      "|Africa|     14|        2024|           10|           1|          1|          43.0|     2359.5|\n",
      "|Africa|     14|        2020|           11|           1|          1|          39.0|     396.06|\n",
      "|Africa|     15|        2024|           12|           1|          1|          48.0|    2399.47|\n",
      "|Africa|     15|        2023|            1|           1|          1|           2.0|      52.52|\n",
      "|Africa|     15|        2021|            6|           1|          1|          13.0|    1191.16|\n",
      "|Africa|     16|        2024|            2|           1|          1|          27.0|    2197.95|\n",
      "|Africa|     16|        2022|           10|           1|          1|          84.0|    5164.66|\n",
      "+------+-------+------------+-------------+------------+-----------+--------------+-----------+\n",
      "only showing top 10 rows\n",
      "\n"
     ]
    }
   ],
   "source": [
    "agg_query = '''select  region, storeno, invoice_year, invoice_month,\n",
    "                count(distinct(invoiceno)) as num_invoices, \n",
    "                count(distinct(lineitem_stockcode)) as stock_count,\n",
    "                sum(lineitem_quantity) as total_quantity,\n",
    "                sum(lineitem_finalsaleprice) as total_sales\n",
    "            from txn_dataset\n",
    "            group by region, storeno, invoice_year, invoice_month\n",
    "            order by region, storeno, invoice_year desc, invoice_month desc\n",
    "            '''\n",
    "\n",
    "df_agg = spark.sql(agg_query)\n",
    "df_agg.show(10)"
   ]
  },
  {
   "cell_type": "code",
   "execution_count": 32,
   "metadata": {
    "vscode": {
     "languageId": "python_session"
    }
   },
   "outputs": [
    {
     "name": "stdout",
     "output_type": "stream",
     "text": [
      "Calculation started (calculation_id=10ca5e05-0134-90d1-abd0-a5857fb17d5e) in (session=f0ca5e00-104e-b282-e34e-bc937991e894). Checking calculation status...\n"
     ]
    },
    {
     "data": {
      "application/vnd.jupyter.widget-view+json": {
       "model_id": "65b798a923e94dd2a16d9f176b9568c8",
       "version_major": 2,
       "version_minor": 0
      },
      "text/plain": [
       "Progress:   0%|          |elapsed time = 00:00s"
      ]
     },
     "metadata": {},
     "output_type": "display_data"
    },
    {
     "name": "stdout",
     "output_type": "stream",
     "text": [
      "Calculation completed.\n",
      "+------+-------+------------+-------------+------------+-----------+--------------+-----------+---------+----------+----------+----------+\n",
      "|region|storeno|invoice_year|invoice_month|num_invoices|stock_count|total_quantity|total_sales|rownumber|next_sales|prev_sales|change_pct|\n",
      "+------+-------+------------+-------------+------------+-----------+--------------+-----------+---------+----------+----------+----------+\n",
      "|Africa|      1|        2022|            3|           1|          1|          90.0|    5201.82|        1|      null|      null|      null|\n",
      "|Africa|     11|        2023|            5|           1|          1|          24.0|     361.38|        1|      null|      null|      null|\n",
      "|Africa|     12|        2020|            6|           1|          1|          97.0|    5838.62|        1|      null|      null|      null|\n",
      "|Africa|     14|        2024|           10|           1|          1|          43.0|     2359.5|        1|    396.06|      null|      null|\n",
      "|Africa|     14|        2020|           11|           1|          1|          39.0|     396.06|        2|      null|    2359.5|    -83.21|\n",
      "|Africa|     15|        2024|           12|           1|          1|          48.0|    2399.47|        1|     52.52|      null|      null|\n",
      "|Africa|     15|        2023|            1|           1|          1|           2.0|      52.52|        2|   1191.16|   2399.47|    -97.81|\n",
      "|Africa|     15|        2021|            6|           1|          1|          13.0|    1191.16|        3|      null|     52.52|   2168.01|\n",
      "|Africa|     16|        2024|            2|           1|          1|          27.0|    2197.95|        1|   5164.66|      null|      null|\n",
      "|Africa|     16|        2022|           10|           1|          1|          84.0|    5164.66|        2|      null|   2197.95|    134.98|\n",
      "+------+-------+------------+-------------+------------+-----------+--------------+-----------+---------+----------+----------+----------+\n",
      "only showing top 10 rows\n",
      "\n"
     ]
    }
   ],
   "source": [
    "window_ll = Window.partitionBy('region', 'storeno') \\\n",
    "                    .orderBy(desc('invoice_year'))\n",
    "\n",
    "df_leadlag = df_agg.withColumn('rownumber',row_number().over(window_ll)) \\\n",
    "                .withColumn('next_sales', lead(col('total_sales'),1).over(window_ll)) \\\n",
    "                .withColumn('prev_sales', lag(col('total_sales'),1).over(window_ll)) \\\n",
    "                .withColumn('change_pct', expr('ROUND((total_sales-prev_sales)/prev_sales*100, 2)'))\n",
    "\n",
    "df_leadlag.show(10)"
   ]
  },
  {
   "cell_type": "code",
   "execution_count": 27,
   "metadata": {
    "vscode": {
     "languageId": "python_session"
    }
   },
   "outputs": [
    {
     "name": "stdout",
     "output_type": "stream",
     "text": [
      "Calculation started (calculation_id=56ca53dc-1e8f-e79a-0188-a9aa17240794) in (session=64ca53db-37ac-5e13-b019-cdb042d19ab3). Checking calculation status...\n"
     ]
    },
    {
     "data": {
      "application/vnd.jupyter.widget-view+json": {
       "model_id": "",
       "version_major": 2,
       "version_minor": 0
      },
      "text/plain": [
       "Progress:   0%|          |elapsed time = 00:00s"
      ]
     },
     "metadata": {},
     "output_type": "display_data"
    },
    {
     "name": "stdout",
     "output_type": "stream",
     "text": [
      "Calculation completed.\n"
     ]
    }
   ],
   "source": [
    "merge_condition = \"target.invoiceno=updates.invoiceno and target.storeno=updates.storeno and target.lineitem_stockcode=updates.lineitem_stockcode and target.invoicedate=updates.invoicedate and target.storecountry=updates.storecountry\"\n",
    "agg_condition = \"target.invoicedate=updates.invoicedate and target.storecountry=updates.storecountry\"\n",
    "partition_cols = ['region', 'invoicedate']\n",
    "target_path = \"s3://datacraft-retail-dataset/curated/txn_dataset/\""
   ]
  },
  {
   "cell_type": "code",
   "execution_count": 28,
   "metadata": {
    "vscode": {
     "languageId": "python_session"
    }
   },
   "outputs": [
    {
     "name": "stdout",
     "output_type": "stream",
     "text": [
      "Calculation started (calculation_id=98ca53dc-1faf-a7b9-9b18-f2b34583f82b) in (session=64ca53db-37ac-5e13-b019-cdb042d19ab3). Checking calculation status...\n"
     ]
    },
    {
     "data": {
      "application/vnd.jupyter.widget-view+json": {
       "model_id": "",
       "version_major": 2,
       "version_minor": 0
      },
      "text/plain": [
       "Progress:   0%|          |elapsed time = 00:00s"
      ]
     },
     "metadata": {},
     "output_type": "display_data"
    },
    {
     "name": "stdout",
     "output_type": "stream",
     "text": [
      "Calculation 98ca53dc-1faf-a7b9-9b18-f2b34583f82b failed\n",
      "\n",
      "\n",
      "  File \"<stdin>\", line 1, in <module>\n",
      "NameError: name 'write_to_target' is not defined\n",
      "\n"
     ]
    }
   ],
   "source": [
    "write_to_target(spark, txn_dataset, target_path, partition_cols, merge_condition)"
   ]
  },
  {
   "cell_type": "code",
   "execution_count": null,
   "metadata": {
    "vscode": {
     "languageId": "python_session"
    }
   },
   "outputs": [],
   "source": []
  }
 ],
 "metadata": {
  "kernelspec": {
   "display_name": "Athena PySpark",
   "language": "python",
   "name": "kepler_python_kernel"
  },
  "language_info": {
   "codemirror_mode": {
    "name": "python",
    "version": 3
   },
   "file_extension": ".py",
   "mimetype": "text/x-python",
   "name": "Python_Session",
   "pygments_lexer": "python3"
  }
 },
 "nbformat": 4,
 "nbformat_minor": 2
}
